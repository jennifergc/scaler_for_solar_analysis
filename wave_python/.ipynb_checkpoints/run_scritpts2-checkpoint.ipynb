{
 "cells": [
  {
   "cell_type": "code",
   "execution_count": 1,
   "id": "02e11a9d-6085-434c-9511-4125959dedb9",
   "metadata": {},
   "outputs": [
    {
     "name": "stderr",
     "output_type": "stream",
     "text": [
      "/usr/lib/python3/dist-packages/scipy/__init__.py:146: UserWarning: A NumPy version >=1.17.3 and <1.25.0 is required for this version of SciPy (detected version 1.26.0\n",
      "  warnings.warn(f\"A NumPy version >={np_minversion} and <{np_maxversion}\"\n"
     ]
    }
   ],
   "source": [
    "import matplotlib.pylab as plt\n",
    "import matplotlib.ticker as ticker\n",
    "from matplotlib.gridspec import GridSpec\n",
    "import pandas as pd\n",
    "import numpy as np\n",
    "# from mpl_toolkits.axes_grid1 import make_axes_locatable\n",
    "from waveletFunctions import wave_signif, wavelet\n",
    "import sys\n",
    "\n",
    "sys.path.append('../augerscalerpy')\n",
    "from scaler_cleaning import scaler_clean, plot_data"
   ]
  },
  {
   "cell_type": "code",
   "execution_count": 57,
   "id": "380e2764-b0fb-4130-a128-b1c2b4dd6799",
   "metadata": {},
   "outputs": [
    {
     "name": "stdout",
     "output_type": "stream",
     "text": [
      "Hay  (13663, 6) líneas vacías\n"
     ]
    },
    {
     "name": "stderr",
     "output_type": "stream",
     "text": [
      "/home/jennifer/Documentos/msc_tesis/scaler_for_solar_analysis/wave_python/../augerscalerpy/scaler_cleaning.py:41: SettingWithCopyWarning: \n",
      "A value is trying to be set on a copy of a slice from a DataFrame.\n",
      "Try using .loc[row_indexer,col_indexer] = value instead\n",
      "\n",
      "See the caveats in the documentation: https://pandas.pydata.org/pandas-docs/stable/user_guide/indexing.html#returning-a-view-versus-a-copy\n",
      "  SDOK[\"Date\"] = datetime.values\n"
     ]
    },
    {
     "data": {
      "text/plain": [
       "1519231"
      ]
     },
     "execution_count": 57,
     "metadata": {},
     "output_type": "execute_result"
    }
   ],
   "source": [
    "# READ THE DATA\n",
    "#sst = np.loadtxt('sst_nino3.dat')  # input SST time series\n",
    "datos = scaler_clean('../scaler_datasets/scaler_300s_FINAL.csv','scaler_300s_N9')\n",
    "#sst.set_index('Date', inplace=True) # Establece la columna 'Date' como el índice del DataFrame\n",
    "len(datos)"
   ]
  },
  {
   "cell_type": "code",
   "execution_count": 58,
   "id": "a828315c-c782-4657-b106-bfefe2f3c289",
   "metadata": {},
   "outputs": [
    {
     "data": {
      "text/html": [
       "<div>\n",
       "<style scoped>\n",
       "    .dataframe tbody tr th:only-of-type {\n",
       "        vertical-align: middle;\n",
       "    }\n",
       "\n",
       "    .dataframe tbody tr th {\n",
       "        vertical-align: top;\n",
       "    }\n",
       "\n",
       "    .dataframe thead th {\n",
       "        text-align: right;\n",
       "    }\n",
       "</style>\n",
       "<table border=\"1\" class=\"dataframe\">\n",
       "  <thead>\n",
       "    <tr style=\"text-align: right;\">\n",
       "      <th></th>\n",
       "      <th>ScalerCorr</th>\n",
       "      <th>errmean</th>\n",
       "      <th>arrvar</th>\n",
       "      <th>activeSD</th>\n",
       "      <th>pressure</th>\n",
       "    </tr>\n",
       "    <tr>\n",
       "      <th>Date</th>\n",
       "      <th></th>\n",
       "      <th></th>\n",
       "      <th></th>\n",
       "      <th></th>\n",
       "      <th></th>\n",
       "    </tr>\n",
       "  </thead>\n",
       "  <tbody>\n",
       "    <tr>\n",
       "      <th>2005-12-31</th>\n",
       "      <td>1604.310000</td>\n",
       "      <td>0.226024</td>\n",
       "      <td>2793.150000</td>\n",
       "      <td>584.000000</td>\n",
       "      <td>857.586000</td>\n",
       "    </tr>\n",
       "    <tr>\n",
       "      <th>2006-03-31</th>\n",
       "      <td>1639.812989</td>\n",
       "      <td>0.210404</td>\n",
       "      <td>2659.090863</td>\n",
       "      <td>513.533673</td>\n",
       "      <td>861.369950</td>\n",
       "    </tr>\n",
       "    <tr>\n",
       "      <th>2006-06-30</th>\n",
       "      <td>1651.229419</td>\n",
       "      <td>0.194235</td>\n",
       "      <td>2772.117772</td>\n",
       "      <td>620.887858</td>\n",
       "      <td>863.279976</td>\n",
       "    </tr>\n",
       "    <tr>\n",
       "      <th>2006-09-30</th>\n",
       "      <td>1644.113834</td>\n",
       "      <td>0.189696</td>\n",
       "      <td>2726.010788</td>\n",
       "      <td>607.992922</td>\n",
       "      <td>861.825839</td>\n",
       "    </tr>\n",
       "    <tr>\n",
       "      <th>2006-12-31</th>\n",
       "      <td>1641.407355</td>\n",
       "      <td>0.199214</td>\n",
       "      <td>2789.389584</td>\n",
       "      <td>567.329817</td>\n",
       "      <td>860.031244</td>\n",
       "    </tr>\n",
       "    <tr>\n",
       "      <th>...</th>\n",
       "      <td>...</td>\n",
       "      <td>...</td>\n",
       "      <td>...</td>\n",
       "      <td>...</td>\n",
       "      <td>...</td>\n",
       "    </tr>\n",
       "    <tr>\n",
       "      <th>2020-09-30</th>\n",
       "      <td>1670.775751</td>\n",
       "      <td>0.171489</td>\n",
       "      <td>3302.423046</td>\n",
       "      <td>682.043993</td>\n",
       "      <td>861.911307</td>\n",
       "    </tr>\n",
       "    <tr>\n",
       "      <th>2020-12-31</th>\n",
       "      <td>1664.105787</td>\n",
       "      <td>0.191234</td>\n",
       "      <td>3555.138692</td>\n",
       "      <td>520.767101</td>\n",
       "      <td>861.727408</td>\n",
       "    </tr>\n",
       "    <tr>\n",
       "      <th>2021-03-31</th>\n",
       "      <td>1663.801992</td>\n",
       "      <td>0.196345</td>\n",
       "      <td>3681.033703</td>\n",
       "      <td>495.143193</td>\n",
       "      <td>862.094292</td>\n",
       "    </tr>\n",
       "    <tr>\n",
       "      <th>2021-06-30</th>\n",
       "      <td>1668.115616</td>\n",
       "      <td>0.181237</td>\n",
       "      <td>3466.117288</td>\n",
       "      <td>595.602077</td>\n",
       "      <td>863.226084</td>\n",
       "    </tr>\n",
       "    <tr>\n",
       "      <th>2021-09-30</th>\n",
       "      <td>1659.444632</td>\n",
       "      <td>0.167411</td>\n",
       "      <td>3307.406573</td>\n",
       "      <td>701.735416</td>\n",
       "      <td>863.756712</td>\n",
       "    </tr>\n",
       "  </tbody>\n",
       "</table>\n",
       "<p>64 rows × 5 columns</p>\n",
       "</div>"
      ],
      "text/plain": [
       "             ScalerCorr   errmean       arrvar    activeSD    pressure\n",
       "Date                                                                  \n",
       "2005-12-31  1604.310000  0.226024  2793.150000  584.000000  857.586000\n",
       "2006-03-31  1639.812989  0.210404  2659.090863  513.533673  861.369950\n",
       "2006-06-30  1651.229419  0.194235  2772.117772  620.887858  863.279976\n",
       "2006-09-30  1644.113834  0.189696  2726.010788  607.992922  861.825839\n",
       "2006-12-31  1641.407355  0.199214  2789.389584  567.329817  860.031244\n",
       "...                 ...       ...          ...         ...         ...\n",
       "2020-09-30  1670.775751  0.171489  3302.423046  682.043993  861.911307\n",
       "2020-12-31  1664.105787  0.191234  3555.138692  520.767101  861.727408\n",
       "2021-03-31  1663.801992  0.196345  3681.033703  495.143193  862.094292\n",
       "2021-06-30  1668.115616  0.181237  3466.117288  595.602077  863.226084\n",
       "2021-09-30  1659.444632  0.167411  3307.406573  701.735416  863.756712\n",
       "\n",
       "[64 rows x 5 columns]"
      ]
     },
     "execution_count": 58,
     "metadata": {},
     "output_type": "execute_result"
    }
   ],
   "source": [
    "datos = datos.fillna(datos.mean())\n",
    "datos['Date'] = pd.to_datetime(datos['Date'])\n",
    "datos.set_index('Date', inplace=True)\n",
    "datos = datos.resample('3M').mean().interpolate(method='linear')\n",
    "#datos_resample = datos_resample.fillna(datos_resample.mean())\n",
    "datos"
   ]
  },
  {
   "cell_type": "code",
   "execution_count": 59,
   "id": "4d05dd55-55dd-4eee-b6cf-bcbc128a7fd5",
   "metadata": {},
   "outputs": [
    {
     "data": {
      "text/plain": [
       "64"
      ]
     },
     "execution_count": 59,
     "metadata": {},
     "output_type": "execute_result"
    }
   ],
   "source": [
    "##### DEBO CONVERTIR ESA COLUMNA EN UN ARRAY DE NUMPY PARA PODER PASARLA POR EL CÓDIGO\n",
    "#subset = CRIdf['counts/s'].iloc[:730]\n",
    "#data = sst['ScalerCorr']\n",
    "#data = datos['ScalerCorr'].iloc[:100000]\n",
    "sst = datos['ScalerCorr'].values\n",
    "len(sst)"
   ]
  },
  {
   "cell_type": "code",
   "execution_count": 60,
   "id": "53d5c502-52f8-4091-9b95-55137f3b5aa7",
   "metadata": {},
   "outputs": [
    {
     "data": {
      "text/plain": [
       "1681.2829911357583"
      ]
     },
     "execution_count": 60,
     "metadata": {},
     "output_type": "execute_result"
    }
   ],
   "source": [
    "np.max(sst)"
   ]
  },
  {
   "cell_type": "code",
   "execution_count": 61,
   "id": "64939819-39b5-4b51-995a-080d9ef3b674",
   "metadata": {},
   "outputs": [
    {
     "name": "stdout",
     "output_type": "stream",
     "text": [
      "variance =  13.441747304424725\n"
     ]
    }
   ],
   "source": [
    "sst = sst - np.mean(sst)\n",
    "variance = np.std(sst)\n",
    "print(\"variance = \", variance)"
   ]
  },
  {
   "cell_type": "code",
   "execution_count": 62,
   "id": "d4fc475f-29fc-441d-91da-6f2d70ad9793",
   "metadata": {},
   "outputs": [
    {
     "data": {
      "text/plain": [
       "array([-53.75506319, -18.25207427,  -6.83564459, -13.95122949,\n",
       "       -16.6577083 , -19.32063507,  -5.40791853, -14.39102679,\n",
       "        -0.43551367,  -9.46021455,   3.07188877,   3.91448124,\n",
       "         2.34642802,  10.79961733,  23.21792794,  20.92252725,\n",
       "        10.98138332,   3.87728269,   9.10512935,   3.52052687,\n",
       "        -2.83839236,   1.17356482,  -2.25354201,  -3.85662654,\n",
       "        -7.85691264,  -9.967947  ,   3.81926801,  -7.5772928 ,\n",
       "        -7.57295093,  -1.57235426,  -1.4694799 ,  10.34828396,\n",
       "         6.51976166,  -4.36500843,   2.91109383,   2.79168507,\n",
       "       -22.83893249, -31.8654461 , -18.05192374, -16.53681392,\n",
       "       -17.91317557, -12.38250794,  -1.1237298 ,   0.21996963,\n",
       "         3.67254614,   9.44257502,  14.61838744,   6.93148608,\n",
       "         7.85355854,  11.38819647,  20.24647057,  19.8749877 ,\n",
       "        15.1847449 ,  10.93896549,  12.92470585,  12.08698293,\n",
       "         8.88669112,   5.67211992,  13.32836391,  12.71068759,\n",
       "         6.04072427,   5.73692871,  10.0505532 ,   1.3795693 ])"
      ]
     },
     "execution_count": 62,
     "metadata": {},
     "output_type": "execute_result"
    }
   ],
   "source": [
    "sst"
   ]
  },
  {
   "cell_type": "code",
   "execution_count": null,
   "id": "2732afab-bbdf-4edf-972c-792c29c2f5dd",
   "metadata": {},
   "outputs": [],
   "source": [
    "plt.scatter(time)"
   ]
  },
  {
   "cell_type": "code",
   "execution_count": 65,
   "id": "f268299d-1a69-4d13-b0d3-f65c091f88ce",
   "metadata": {},
   "outputs": [
    {
     "data": {
      "text/plain": [
       "array([2006.  , 2006.25, 2006.5 , 2006.75, 2007.  , 2007.25, 2007.5 ,\n",
       "       2007.75, 2008.  , 2008.25, 2008.5 , 2008.75, 2009.  , 2009.25,\n",
       "       2009.5 , 2009.75, 2010.  , 2010.25, 2010.5 , 2010.75, 2011.  ,\n",
       "       2011.25, 2011.5 , 2011.75, 2012.  , 2012.25, 2012.5 , 2012.75,\n",
       "       2013.  , 2013.25, 2013.5 , 2013.75, 2014.  , 2014.25, 2014.5 ,\n",
       "       2014.75, 2015.  , 2015.25, 2015.5 , 2015.75, 2016.  , 2016.25,\n",
       "       2016.5 , 2016.75, 2017.  , 2017.25, 2017.5 , 2017.75, 2018.  ,\n",
       "       2018.25, 2018.5 , 2018.75, 2019.  , 2019.25, 2019.5 , 2019.75,\n",
       "       2020.  , 2020.25, 2020.5 , 2020.75, 2021.  , 2021.25, 2021.5 ,\n",
       "       2021.75])"
      ]
     },
     "execution_count": 65,
     "metadata": {},
     "output_type": "execute_result"
    }
   ],
   "source": [
    "time"
   ]
  },
  {
   "cell_type": "code",
   "execution_count": 67,
   "id": "c73e7431-27fb-4f20-92eb-5476ba7a98ed",
   "metadata": {},
   "outputs": [
    {
     "data": {
      "text/plain": [
       "[<matplotlib.lines.Line2D at 0x7f34fdaf6140>]"
      ]
     },
     "execution_count": 67,
     "metadata": {},
     "output_type": "execute_result"
    },
    {
     "data": {
      "image/png": "[encoded data removed]",
      "text/plain": [
       "<Figure size 640x480 with 1 Axes>"
      ]
     },
     "metadata": {},
     "output_type": "display_data"
    }
   ],
   "source": [
    "plt.plot(time,sst)"
   ]
  },
  {
   "cell_type": "code",
   "execution_count": 71,
   "id": "28325977-eb95-4f43-9cd2-6c018124756c",
   "metadata": {},
   "outputs": [
    {
     "name": "stdout",
     "output_type": "stream",
     "text": [
      "lag1 =  0.72 \n",
      "\n",
      "Los valores j son:  [ 0.  1.  2.  3.  4.  5.  6.  7.  8.  9. 10. 11. 12. 13. 14. 15. 16. 17.\n",
      " 18. 19. 20.] \n",
      "\n",
      "La escala es:  [5.00000000e-01 7.07106781e-01 1.00000000e+00 1.41421356e+00\n",
      " 2.00000000e+00 2.82842712e+00 4.00000000e+00 5.65685425e+00\n",
      " 8.00000000e+00 1.13137085e+01 1.60000000e+01 2.26274170e+01\n",
      " 3.20000000e+01 4.52548340e+01 6.40000000e+01 9.05096680e+01\n",
      " 1.28000000e+02 1.81019336e+02 2.56000000e+02 3.62038672e+02\n",
      " 5.12000000e+02]  y el tamaño es de:  21 \n",
      " El periodo es:  [5.16521824e-01 7.30472169e-01 1.03304365e+00 1.46094434e+00\n",
      " 2.06608730e+00 2.92188867e+00 4.13217459e+00 5.84377735e+00\n",
      " 8.26434918e+00 1.16875547e+01 1.65286984e+01 2.33751094e+01\n",
      " 3.30573967e+01 4.67502188e+01 6.61147935e+01 9.35004376e+01\n",
      " 1.32229587e+02 1.87000875e+02 2.64459174e+02 3.74001750e+02\n",
      " 5.28918348e+02] \n",
      "\n"
     ]
    },
    {
     "data": {
      "image/png": "[encoded data removed]",
      "text/plain": [
       "<Figure size 900x1000 with 1 Axes>"
      ]
     },
     "metadata": {},
     "output_type": "display_data"
    }
   ],
   "source": [
    "\n",
    "n = len(sst)\n",
    "dt = 0.25 #Años\n",
    "time = np.arange(len(sst)) * dt + 2006  # construct time array\n",
    "xlim = ([2006, 2021])  # plotting range\n",
    "pad = 1  # pad the time series with zeroes (recommended)\n",
    "dj = 0.5  # this will do 4 sub-octaves per octave\n",
    "#dj = 1 \n",
    "s0 = 2 * dt  # this says start at a scale of 6 months\n",
    "j1 = 10 / dj  # this says do 7 powers-of-two with dj sub-octaves each\n",
    "#j1=-1\n",
    "lag1 = 0.72  # lag-1 autocorrelation for red noise background\n",
    "print(\"lag1 = \", lag1, \"\\n\")\n",
    "mother = 'MORLET'\n",
    "\n",
    "# Wavelet transform:\n",
    "#wave, period, scale, coi = wavelet(sst, dt,pad=0, dj=-1, s0=-1, J1=-1, mother=-1, param=-1, freq=None)\n",
    "wave, period, scale, coi = wavelet(sst, dt, pad, dj, s0, j1, mother)\n",
    "#wave, period, scale, coi = wavelet(sst, dt, pad=0, dj, s0, j1, mother)\n",
    "power = (np.abs(wave)) ** 2  # compute wavelet power spectrum\n",
    "global_ws = (np.sum(power, axis=1) / n)  # time-average over all times\n",
    "print(\"La escala es: \", scale, \" y el tamaño es de: \", len(scale), \"\\n\", \"El periodo es: \", period, \"\\n\")\n",
    "\n",
    "# Significance levels:\n",
    "signif = wave_signif(([variance]), dt=dt, sigtest=0, scale=scale,\n",
    "    lag1=lag1, mother=mother)\n",
    "# expand signif --> (J+1)x(N) array\n",
    "sig95 = signif[:, np.newaxis].dot(np.ones(n)[np.newaxis, :])\n",
    "sig95 = power / sig95  # where ratio > 1, power is significant\n",
    "\n",
    "########## PEGAMOS PARTE DE COD\n",
    "# --- Plot time series\n",
    "fig = plt.figure(figsize=(9, 10))\n",
    "gs = GridSpec(3, 4, hspace=0.4, wspace=0.75)\n",
    "plt.subplots_adjust(left=0.1, bottom=0.05, right=0.9, top=0.95,\n",
    "                    wspace=0, hspace=0)\n",
    "\n",
    "# --- Contour plot wavelet power spectrum\n",
    "# plt3 = plt.subplot(3, 1, 2)\n",
    "plt3 = plt.subplot(gs[1, 0:3])\n",
    "levels = [0, 0.5, 1, 2, 4, 999]\n",
    "# *** or use 'contour'\n",
    "CS = plt.contourf(time, period, power, len(levels))\n",
    "im = plt.contourf(CS, levels=levels,\n",
    "    colors=['white', 'bisque', 'orange', 'orangered', 'darkred'])\n",
    "plt.xlabel('Time (year)')\n",
    "plt.ylabel('Period (years)')\n",
    "plt.title('b) Wavelet Power Spectrum (contours at 0.5,1,2,4\\u00B0C$^2$)')\n",
    "plt.xlim(xlim[:])\n",
    "# 95# significance contour, levels at -99 (fake) and 1 (95# signif)\n",
    "plt.contour(time, period, sig95, [-99, 1], colors='k')\n",
    "# cone-of-influence, anything \"below\" is dubious\n",
    "#plt.fill_between(time, coi * 0 + period[-1], coi, facecolor=\"none\",\n",
    "#    edgecolor=\"#00000040\", hatch='x')\n",
    "plt.plot(time, coi, 'k')\n",
    "# format y-scale\n",
    "plt3.set_yscale('log', base=2, subs=None)\n",
    "#plt.ylim([np.min(period), np.max(period)])\n",
    "ax = plt.gca().yaxis\n",
    "ax.set_major_formatter(ticker.ScalarFormatter())\n",
    "plt3.ticklabel_format(axis='y', style='plain')\n",
    "plt3.invert_yaxis()\n",
    "# set up the size and location of the colorbar\n",
    "# position=fig.add_axes([0.5,0.36,0.2,0.01])\n",
    "# plt.colorbar(im, cax=position, orientation='horizontal')\n",
    "#   , fraction=0.05, pad=0.5)\n",
    "\n",
    "# plt.subplots_adjust(right=0.7, top=0.9)\n",
    "####################### fFIIIIIIIIIIIIN\n",
    "\n"
   ]
  },
  {
   "cell_type": "code",
   "execution_count": null,
   "id": "5c2d656a-8788-44c1-a351-1b96dd8adbd7",
   "metadata": {},
   "outputs": [],
   "source": [
    "# Significance levels:\n",
    "signif = wave_signif(([variance]), dt=dt, sigtest=0, scale=scale,\n",
    "    lag1=lag1, mother=mother)\n",
    "# expand signif --> (J+1)x(N) array\n",
    "sig95 = signif[:, np.newaxis].dot(np.ones(n)[np.newaxis, :])\n",
    "sig95 = power / sig95  # where ratio > 1, power is significant\n",
    "\n",
    "# Global wavelet spectrum & significance levels:\n",
    "dof = n - scale  # the -scale corrects for padding at edges\n",
    "global_signif = wave_signif(variance, dt=dt, scale=scale, sigtest=1,\n",
    "    lag1=lag1, dof=dof, mother=mother)\n",
    "\n",
    "# Scale-average between El Nino periods of 2--8 years\n",
    "avg = np.logical_and(scale >= 2, scale < 8)\n",
    "Cdelta = 0.776  # this is for the MORLET wavelet\n",
    "# expand scale --> (J+1)x(N) array\n",
    "scale_avg = scale[:, np.newaxis].dot(np.ones(n)[np.newaxis, :])\n",
    "scale_avg = power / scale_avg  # [Eqn(24)]\n",
    "scale_avg = dj * dt / Cdelta * sum(scale_avg[avg, :])  # [Eqn(24)]\n",
    "scaleavg_signif = wave_signif(variance, dt=dt, scale=scale, sigtest=2,\n",
    "    lag1=lag1, dof=([2, 7.9]), mother=mother)\n",
    "\n",
    "# ------------------------------------------------------ Plotting\n",
    "\n",
    "# --- Plot time series\n",
    "fig = plt.figure(figsize=(9, 10))\n",
    "gs = GridSpec(3, 4, hspace=0.4, wspace=0.75)\n",
    "plt.subplots_adjust(left=0.1, bottom=0.05, right=0.9, top=0.95,\n",
    "                    wspace=0, hspace=0)\n",
    "plt.subplot(gs[0, 0:3])\n",
    "plt.plot(time, sst, 'k')\n",
    "plt.xlim(xlim[:])\n",
    "plt.xlabel('Time (year)')\n",
    "plt.ylabel('NINO3 SST (\\u00B0C)')\n",
    "plt.title('a) NINO3 Sea Surface Temperature (seasonal)')\n",
    "\n",
    "plt.text(time[-1] + 35, 0.5, 'Wavelet Analysis\\nC. Torrence & G.P. Compo\\n'\n",
    "    'http://paos.colorado.edu/\\nresearch/wavelets/',\n",
    "    horizontalalignment='center', verticalalignment='center')\n",
    "\n",
    "# --- Contour plot wavelet power spectrum\n",
    "# plt3 = plt.subplot(3, 1, 2)\n",
    "plt3 = plt.subplot(gs[1, 0:3])\n",
    "levels = [0, 0.5, 1, 2, 4, 999]\n",
    "# *** or use 'contour'\n",
    "CS = plt.contourf(time, period, power, len(levels))\n",
    "im = plt.contourf(CS, levels=levels,\n",
    "    colors=['white', 'bisque', 'orange', 'orangered', 'darkred'])\n",
    "plt.xlabel('Time (year)')\n",
    "plt.ylabel('Period (years)')\n",
    "plt.title('b) Wavelet Power Spectrum (contours at 0.5,1,2,4\\u00B0C$^2$)')\n",
    "plt.xlim(xlim[:])\n",
    "# 95# significance contour, levels at -99 (fake) and 1 (95# signif)\n",
    "plt.contour(time, period, sig95, [-99, 1], colors='k')\n",
    "# cone-of-influence, anything \"below\" is dubious\n",
    "plt.fill_between(time, coi * 0 + period[-1], coi, facecolor=\"none\",\n",
    "    edgecolor=\"#00000040\", hatch='x')\n",
    "plt.plot(time, coi, 'k')\n",
    "# format y-scale\n",
    "plt3.set_yscale('log', base=2, subs=None)\n",
    "plt.ylim([np.min(period), np.max(period)])\n",
    "ax = plt.gca().yaxis\n",
    "ax.set_major_formatter(ticker.ScalarFormatter())\n",
    "plt3.ticklabel_format(axis='y', style='plain')\n",
    "plt3.invert_yaxis()\n",
    "# set up the size and location of the colorbar\n",
    "# position=fig.add_axes([0.5,0.36,0.2,0.01])\n",
    "# plt.colorbar(im, cax=position, orientation='horizontal')\n",
    "#   , fraction=0.05, pad=0.5)\n",
    "\n",
    "# plt.subplots_adjust(right=0.7, top=0.9)\n",
    "\n",
    "# --- Plot global wavelet spectrum\n",
    "plt4 = plt.subplot(gs[1, -1])\n",
    "plt.plot(global_ws, period)\n",
    "plt.plot(global_signif, period, '--')\n",
    "plt.xlabel('Power (\\u00B0C$^2$)')\n",
    "plt.title('c) Global Wavelet Spectrum')\n",
    "plt.xlim([0, 1.25 * np.max(global_ws)])\n",
    "# format y-scale\n",
    "plt4.set_yscale('log', base=2, subs=None)\n",
    "plt.ylim([np.min(period), np.max(period)])\n",
    "ax = plt.gca().yaxis\n",
    "ax.set_major_formatter(ticker.ScalarFormatter())\n",
    "plt4.ticklabel_format(axis='y', style='plain')\n",
    "plt4.invert_yaxis()\n",
    "\n",
    "# --- Plot 2--8 yr scale-average time series\n",
    "plt.subplot(gs[2, 0:3])\n",
    "plt.plot(time, scale_avg, 'k')\n",
    "plt.xlim(xlim[:])\n",
    "plt.xlabel('Time (year)')\n",
    "plt.ylabel('Avg variance (\\u00B0C$^2$)')\n",
    "plt.title('d) 2-8 yr Scale-average Time Series')\n",
    "plt.plot(xlim, scaleavg_signif + [0, 0], '--')\n",
    "\n",
    "plt.savefig('prueba3.png')\n",
    "plt.show()"
   ]
  },
  {
   "cell_type": "code",
   "execution_count": null,
   "id": "978a9d28-cee3-4e7f-bd53-b113bee7c5ae",
   "metadata": {},
   "outputs": [],
   "source": []
  }
 ],
 "metadata": {
  "kernelspec": {
   "display_name": "Python 3 (ipykernel)",
   "language": "python",
   "name": "python3"
  },
  "language_info": {
   "codemirror_mode": {
    "name": "ipython",
    "version": 3
   },
   "file_extension": ".py",
   "mimetype": "text/x-python",
   "name": "python",
   "nbconvert_exporter": "python",
   "pygments_lexer": "ipython3",
   "version": "3.10.12"
  }
 },
 "nbformat": 4,
 "nbformat_minor": 5
}
