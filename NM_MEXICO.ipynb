{
 "cells": [
  {
   "cell_type": "code",
   "execution_count": 24,
   "id": "26d46bd4-1935-48bd-883f-185a9be346bc",
   "metadata": {},
   "outputs": [
    {
     "name": "stdout",
     "output_type": "stream",
     "text": [
      "3.7.0\n"
     ]
    }
   ],
   "source": [
    "import pandas as pd\n",
    "import matplotlib\n",
    "print(matplotlib.__version__)\n",
    "import matplotlib.pyplot as plt\n",
    "import numpy as np\n",
    "import seaborn as sns\n",
    "from augerscalerpy.scaler_cleaning import scaler_clean, plot_data\n",
    "from augerscalerpy.plot_config import configure_plots"
   ]
  },
  {
   "cell_type": "code",
   "execution_count": null,
   "id": "c12f6c5f-6485-4429-8378-bb11c32d5516",
   "metadata": {},
   "outputs": [],
   "source": [
    "# Dataset Mexico"
   ]
  },
  {
   "cell_type": "markdown",
   "id": "33c51c24-f51f-4a11-a05a-7c03ccc77f8e",
   "metadata": {},
   "source": [
    "forma de los datos: 1-1-2000_31-12-2000_hourly.txt\n",
    "\n",
    "CABACERA:\n",
    "\n",
    "Mexico City, Neutron Monitor\n",
    "Data resolution: 1 hour\n",
    "from 1-1-2000 to 31-12-2000\n",
    "\n",
    "\n",
    "Date\t\tTIme\t\tData\n",
    "2000-01-01\t00:00:00\t771160\n",
    "2000-01-01\t01:00:00\t770800\n",
    "2000-01-01\t02:00:00\t769490"
   ]
  },
  {
   "cell_type": "code",
   "execution_count": 22,
   "id": "39f08b80-f46e-47b3-b06a-79cc856fb21c",
   "metadata": {},
   "outputs": [
    {
     "data": {
      "text/html": [
       "<div>\n",
       "<style scoped>\n",
       "    .dataframe tbody tr th:only-of-type {\n",
       "        vertical-align: middle;\n",
       "    }\n",
       "\n",
       "    .dataframe tbody tr th {\n",
       "        vertical-align: top;\n",
       "    }\n",
       "\n",
       "    .dataframe thead th {\n",
       "        text-align: right;\n",
       "    }\n",
       "</style>\n",
       "<table border=\"1\" class=\"dataframe\">\n",
       "  <thead>\n",
       "    <tr style=\"text-align: right;\">\n",
       "      <th></th>\n",
       "      <th>Date</th>\n",
       "      <th>Time</th>\n",
       "      <th>data</th>\n",
       "      <th>date</th>\n",
       "    </tr>\n",
       "  </thead>\n",
       "  <tbody>\n",
       "    <tr>\n",
       "      <th>0</th>\n",
       "      <td>2000-01-01</td>\n",
       "      <td>01:00:00</td>\n",
       "      <td>770800</td>\n",
       "      <td>2000-01-01 01:00:00</td>\n",
       "    </tr>\n",
       "    <tr>\n",
       "      <th>1</th>\n",
       "      <td>2000-01-01</td>\n",
       "      <td>02:00:00</td>\n",
       "      <td>769490</td>\n",
       "      <td>2000-01-01 02:00:00</td>\n",
       "    </tr>\n",
       "    <tr>\n",
       "      <th>2</th>\n",
       "      <td>2000-01-01</td>\n",
       "      <td>03:00:00</td>\n",
       "      <td>766040</td>\n",
       "      <td>2000-01-01 03:00:00</td>\n",
       "    </tr>\n",
       "    <tr>\n",
       "      <th>3</th>\n",
       "      <td>2000-01-01</td>\n",
       "      <td>04:00:00</td>\n",
       "      <td>767560</td>\n",
       "      <td>2000-01-01 04:00:00</td>\n",
       "    </tr>\n",
       "    <tr>\n",
       "      <th>4</th>\n",
       "      <td>2000-01-01</td>\n",
       "      <td>05:00:00</td>\n",
       "      <td>768860</td>\n",
       "      <td>2000-01-01 05:00:00</td>\n",
       "    </tr>\n",
       "    <tr>\n",
       "      <th>...</th>\n",
       "      <td>...</td>\n",
       "      <td>...</td>\n",
       "      <td>...</td>\n",
       "      <td>...</td>\n",
       "    </tr>\n",
       "    <tr>\n",
       "      <th>7854</th>\n",
       "      <td>2023-11-24</td>\n",
       "      <td>08:00:00</td>\n",
       "      <td>789447</td>\n",
       "      <td>2023-11-24 08:00:00</td>\n",
       "    </tr>\n",
       "    <tr>\n",
       "      <th>7855</th>\n",
       "      <td>2023-11-24</td>\n",
       "      <td>09:00:00</td>\n",
       "      <td>791951</td>\n",
       "      <td>2023-11-24 09:00:00</td>\n",
       "    </tr>\n",
       "    <tr>\n",
       "      <th>7856</th>\n",
       "      <td>2023-11-24</td>\n",
       "      <td>10:00:00</td>\n",
       "      <td>791392</td>\n",
       "      <td>2023-11-24 10:00:00</td>\n",
       "    </tr>\n",
       "    <tr>\n",
       "      <th>7857</th>\n",
       "      <td>2023-11-24</td>\n",
       "      <td>11:00:00</td>\n",
       "      <td>791784</td>\n",
       "      <td>2023-11-24 11:00:00</td>\n",
       "    </tr>\n",
       "    <tr>\n",
       "      <th>7858</th>\n",
       "      <td>2023-11-24</td>\n",
       "      <td>12:00:00</td>\n",
       "      <td>792369</td>\n",
       "      <td>2023-11-24 12:00:00</td>\n",
       "    </tr>\n",
       "  </tbody>\n",
       "</table>\n",
       "<p>209088 rows × 4 columns</p>\n",
       "</div>"
      ],
      "text/plain": [
       "            Date      Time    data                date\n",
       "0     2000-01-01  01:00:00  770800 2000-01-01 01:00:00\n",
       "1     2000-01-01  02:00:00  769490 2000-01-01 02:00:00\n",
       "2     2000-01-01  03:00:00  766040 2000-01-01 03:00:00\n",
       "3     2000-01-01  04:00:00  767560 2000-01-01 04:00:00\n",
       "4     2000-01-01  05:00:00  768860 2000-01-01 05:00:00\n",
       "...          ...       ...     ...                 ...\n",
       "7854  2023-11-24  08:00:00  789447 2023-11-24 08:00:00\n",
       "7855  2023-11-24  09:00:00  791951 2023-11-24 09:00:00\n",
       "7856  2023-11-24  10:00:00  791392 2023-11-24 10:00:00\n",
       "7857  2023-11-24  11:00:00  791784 2023-11-24 11:00:00\n",
       "7858  2023-11-24  12:00:00  792369 2023-11-24 12:00:00\n",
       "\n",
       "[209088 rows x 4 columns]"
      ]
     },
     "execution_count": 22,
     "metadata": {},
     "output_type": "execute_result"
    }
   ],
   "source": [
    "import os\n",
    "import pandas as pd\n",
    "\n",
    "# Directorio donde se encuentran los archivos\n",
    "directory = \"nm_data/MEXICO\"\n",
    "\n",
    "# Lista para almacenar los DataFrames de cada archivo\n",
    "dfs = []\n",
    "\n",
    "# Iterar sobre los archivos en el directorio\n",
    "for filename in os.listdir(directory):\n",
    "    if filename.endswith(\".txt\"):\n",
    "        file_path = os.path.join(directory, filename)\n",
    "        \n",
    "        # Leer el archivo y almacenar el DataFrame, omitiendo las 5 primeras filas\n",
    "        df = pd.read_csv(file_path, delimiter='\\t', skipinitialspace=True, skiprows=6)\n",
    "\n",
    "        # Asignar nombres a las columnas\n",
    "        df.columns = ['Date', 'Time', 'data']\n",
    "        \n",
    "        dfs.append(df)\n",
    "\n",
    "dfs = pd.concat(dfs)\n",
    "\n",
    "\n",
    "# Fusionar las columnas de fecha y hora en una columna datetime\n",
    "dfs['date'] = pd.to_datetime(dfs['Date'] + ' ' + dfs['Time'])\n",
    "\n",
    "# Ordenar el DataFrame por la columna de fecha y hora\n",
    "dfs = dfs.sort_values(by='date')\n",
    "\n",
    "# Mostrar el resultado\n",
    "dfs"
   ]
  },
  {
   "cell_type": "code",
   "execution_count": 47,
   "id": "fc902ffb-36e0-4ddc-83de-2efcaf495720",
   "metadata": {},
   "outputs": [
    {
     "data": {
      "image/png": "[encoded data removed]",
      "text/plain": [
       "<Figure size 640x480 with 1 Axes>"
      ]
     },
     "metadata": {},
     "output_type": "display_data"
    }
   ],
   "source": [
    "import matplotlib.pyplot as plt\n",
    "\n",
    "# Supongamos que 'data' son tus datos y 'date' son tus fechas\n",
    "data = dfs['data']\n",
    "date = dfs['date']\n",
    "\n",
    "# Ignorar los valores cero en 'data'\n",
    "data_non_zero = data[data != 0]\n",
    "date_non_zero = date[data != 0]\n",
    "\n",
    "# Calcular el rango intercuartil\n",
    "Q1 = data_non_zero.quantile(0.25)\n",
    "Q3 = data_non_zero.quantile(0.75)\n",
    "IQR = Q3 - Q1\n",
    "\n",
    "# Definir los límites para los valores atípicos\n",
    "lower_bound = Q1 - 1.5 * IQR\n",
    "upper_bound = Q3 + 1.5 * IQR\n",
    "\n",
    "# Ignorar los valores atípicos en 'data'\n",
    "data_no_outliers = data_non_zero[(data_non_zero >= lower_bound) & (data_non_zero <= upper_bound)]\n",
    "date_no_outliers = date_non_zero[(data_non_zero >= lower_bound) & (data_non_zero <= upper_bound)]\n",
    "\n",
    "# Crear el gráfico\n",
    "plt.scatter(date_no_outliers, data_no_outliers, s=1)\n",
    "plt.show()\n",
    "\n"
   ]
  },
  {
   "cell_type": "code",
   "execution_count": 30,
   "id": "40c8aa8a-8178-4eb3-92b3-35717d8f50b4",
   "metadata": {},
   "outputs": [
    {
     "data": {
      "text/plain": [
       "(810195.0,\n",
       " 789453.5773980333,\n",
       " 0    0\n",
       " Name: data, dtype: int64)"
      ]
     },
     "execution_count": 30,
     "metadata": {},
     "output_type": "execute_result"
    }
   ],
   "source": [
    "mediana = dfs['data'].median()\n",
    "promedio = dfs['data'].mean()\n",
    "moda = dfs['data'].mode()\n",
    "mediana,promedio, moda"
   ]
  },
  {
   "cell_type": "code",
   "execution_count": 35,
   "id": "7802e798-c2b5-420e-b7ee-33c6790530eb",
   "metadata": {},
   "outputs": [
    {
     "name": "stdout",
     "output_type": "stream",
     "text": [
      "El porcentaje de valores que difieren en un 5% de la mediana es: 17.666724058769514%\n"
     ]
    }
   ],
   "source": [
    "# Calcular la mediana de la columna 'data'\n",
    "mediana = dfs['data'].median()\n",
    "\n",
    "# Calcular el 5% de la mediana\n",
    "dif = 0.05 * mediana\n",
    "\n",
    "# Calcular el número de valores que difieren en un 5% de la mediana\n",
    "num_valores = ((dfs['data'] < mediana - dif) | (dfs['data'] > mediana + dif)).sum()\n",
    "\n",
    "# Calcular el porcentaje de valores que difieren en un 5% de la mediana\n",
    "porcentaje = (num_valores / len(dfs['data'])) * 100\n",
    "\n",
    "print(f'El porcentaje de valores que difieren en un 5% de la mediana es: {porcentaje}%')\n"
   ]
  },
  {
   "cell_type": "code",
   "execution_count": 40,
   "id": "9733b83d-2880-4819-a867-ad2adfcf46ba",
   "metadata": {},
   "outputs": [
    {
     "data": {
      "image/png": "[encoded data removed]",
      "text/plain": [
       "<Figure size 640x480 with 1 Axes>"
      ]
     },
     "metadata": {},
     "output_type": "display_data"
    }
   ],
   "source": [
    "import matplotlib.pyplot as plt\n",
    "\n",
    "# Calcular el histograma de la columna 'data'\n",
    "hist = dfs['data'].hist(bins=100)\n",
    "\n",
    "# Mostrar el histograma\n",
    "plt.show()\n"
   ]
  },
  {
   "cell_type": "code",
   "execution_count": 43,
   "id": "f4c1f620-e1dc-422c-8a28-06843e255294",
   "metadata": {},
   "outputs": [
    {
     "name": "stdout",
     "output_type": "stream",
     "text": [
      "La mejor distribución es expon con un valor p de 0.0\n"
     ]
    },
    {
     "data": {
      "image/png": "[encoded data removed]",
      "text/plain": [
       "<Figure size 640x480 with 1 Axes>"
      ]
     },
     "metadata": {},
     "output_type": "display_data"
    }
   ],
   "source": [
    "import numpy as np\n",
    "import scipy.stats as st\n",
    "import matplotlib.pyplot as plt\n",
    "\n",
    "# Supongamos que 'data' son tus datos\n",
    "data = dfs['data']\n",
    "# Ignorar los valores cero\n",
    "data = data[data != 0]\n",
    "\n",
    "# Lista de distribuciones a probar\n",
    "distributions = [st.norm, st.lognorm, st.expon]\n",
    "\n",
    "# Ajustar tus datos a cada distribución\n",
    "results = []\n",
    "for distribution in distributions:\n",
    "    params = distribution.fit(data)\n",
    "    D, p = st.kstest(data, distribution.name, args=params)\n",
    "    results.append((distribution, p))\n",
    "\n",
    "# Ordenar los resultados por el valor p del test KS\n",
    "best_distribution, best_p_value = sorted(results, key=lambda x: x[1])[-1]\n",
    "\n",
    "# Imprimir la mejor distribución\n",
    "print(f'La mejor distribución es {best_distribution.name} con un valor p de {best_p_value}')\n",
    "\n",
    "# Graficar tus datos y la mejor distribución ajustada\n",
    "plt.hist(data, bins=20, density=True, alpha=0.6, color='g')\n",
    "xmin, xmax = plt.xlim()\n",
    "x = np.linspace(xmin, xmax, 100)\n",
    "p = best_distribution.pdf(x)\n",
    "plt.plot(x, p, 'k', linewidth=2)\n",
    "plt.show()\n"
   ]
  },
  {
   "cell_type": "code",
   "execution_count": null,
   "id": "d7a60886-1b2f-4561-aef2-eb6d432bb3ff",
   "metadata": {},
   "outputs": [],
   "source": []
  },
  {
   "cell_type": "code",
   "execution_count": null,
   "id": "ade11c35-5d49-43f7-967b-fafb214e74a1",
   "metadata": {},
   "outputs": [],
   "source": []
  },
  {
   "cell_type": "code",
   "execution_count": null,
   "id": "ae7460c9-3722-4824-92d8-90a7a24abab9",
   "metadata": {},
   "outputs": [],
   "source": []
  },
  {
   "cell_type": "code",
   "execution_count": null,
   "id": "db539e29-d6ae-49e6-bf16-6a4b7eddf41f",
   "metadata": {},
   "outputs": [],
   "source": []
  }
 ],
 "metadata": {
  "kernelspec": {
   "display_name": "Python 3 (ipykernel)",
   "language": "python",
   "name": "python3"
  },
  "language_info": {
   "codemirror_mode": {
    "name": "ipython",
    "version": 3
   },
   "file_extension": ".py",
   "mimetype": "text/x-python",
   "name": "python",
   "nbconvert_exporter": "python",
   "pygments_lexer": "ipython3",
   "version": "3.10.12"
  }
 },
 "nbformat": 4,
 "nbformat_minor": 5
}
